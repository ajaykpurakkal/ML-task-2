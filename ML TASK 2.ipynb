{
 "cells": [
  {
   "cell_type": "code",
   "execution_count": null,
   "id": "65caa1c5",
   "metadata": {},
   "outputs": [],
   "source": []
  },
  {
   "cell_type": "code",
   "execution_count": 1,
   "id": "93b3db6e",
   "metadata": {},
   "outputs": [
    {
     "name": "stdout",
     "output_type": "stream",
     "text": [
      "Requirement already satisfied: scipy in c:\\users\\ajaykrishna kp\\anaconda3\\lib\\site-packages (1.11.1)\n",
      "Requirement already satisfied: numpy<1.28.0,>=1.21.6 in c:\\users\\ajaykrishna kp\\anaconda3\\lib\\site-packages (from scipy) (1.24.3)\n",
      "Note: you may need to restart the kernel to use updated packages.\n"
     ]
    }
   ],
   "source": [
    "pip install scipy"
   ]
  },
  {
   "cell_type": "code",
   "execution_count": 7,
   "id": "55280b03",
   "metadata": {},
   "outputs": [],
   "source": [
    "import scipy.stats as stats"
   ]
  },
  {
   "cell_type": "code",
   "execution_count": 8,
   "id": "aa46d6a9",
   "metadata": {},
   "outputs": [],
   "source": [
    "from scipy.stats import norm"
   ]
  },
  {
   "cell_type": "markdown",
   "id": "7a0038ce",
   "metadata": {},
   "source": [
    "Q1.Suppose a child psychologist claims that the average time working mothers spend talking to their children is at least 11 minutes per day. You conduct a random sample of 1000 working mothers and find they spend an average of 11.5 minutes per day talking with their children. Assume prior research suggests the population standard deviation is 2.3 minutes. Conduct a test with a level of significance of alpha = 0.05."
   ]
  },
  {
   "cell_type": "code",
   "execution_count": 16,
   "id": "a52476eb",
   "metadata": {},
   "outputs": [
    {
     "name": "stdout",
     "output_type": "stream",
     "text": [
      "Z-score: 6.874516652539955\n",
      "Critical value: -1.6448536269514729\n"
     ]
    }
   ],
   "source": [
    "sample_size=1000\n",
    "sample_mean=11.5\n",
    "hypothesized_mean = 11 \n",
    "population_std_dev = 2.3  \n",
    "alpha = 0.05\n",
    "z_score = (sample_mean - hypothesized_mean) / (population_std_dev / (sample_size ** 0.5))\n",
    "critical_value = norm.ppf(alpha)\n",
    "print(f\"Z-score: {z_statistic}\")\n",
    "print(f\"Critical value: {critical_value}\")"
   ]
  },
  {
   "cell_type": "code",
   "execution_count": 11,
   "id": "55b52415",
   "metadata": {},
   "outputs": [
    {
     "name": "stdout",
     "output_type": "stream",
     "text": [
      "Fail to reject the null hypothesis: There is not enough evidence to conclude that the average time is less than 11 minutes per day.\n"
     ]
    }
   ],
   "source": [
    "if z_statistic < critical_value:\n",
    "    print(\"Reject the null hypothesis: There is enough evidence to conclude that the average time is less than 11 minutes per day.\")\n",
    "else:\n",
    "    print(\"Fail to reject the null hypothesis: There is not enough evidence to conclude that the average time is less than 11 minutes per day.\")"
   ]
  },
  {
   "cell_type": "markdown",
   "id": "184396f5",
   "metadata": {},
   "source": []
  },
  {
   "cell_type": "code",
   "execution_count": null,
   "id": "8f5e794a",
   "metadata": {},
   "outputs": [],
   "source": []
  },
  {
   "cell_type": "markdown",
   "id": "5e8e8287",
   "metadata": {},
   "source": [
    "Q2. A coffee shop claims that their average wait time for customers is less than 5 minutes. To test this claim, a sample of 40 customers is taken, and their wait times are recorded. The sample mean wait time is found to be 4.6 minutes with a standard deviation of 0.8 minutes. Perform a hypothesis test at a significance level of 0.05 and determine whether there is enough evidence to support the coffee shop's claim."
   ]
  },
  {
   "cell_type": "code",
   "execution_count": 17,
   "id": "9403bf0f",
   "metadata": {},
   "outputs": [
    {
     "name": "stdout",
     "output_type": "stream",
     "text": [
      "The t score is -3.162277660168382 and the critical value is -1.6848751194974\n"
     ]
    }
   ],
   "source": [
    "sample_size = 40\n",
    "sample_mean = 4.6\n",
    "hypothesized_mean  = 5\n",
    "sample_std_dev =0.8\n",
    "alpha = 0.05\n",
    "t_score = (sample_mean - hypothesized_mean) / (sample_std_dev / (sample_size ** 0.5))\n",
    "degree_freedom = sample_size-1\n",
    "critical_value = stats.t.ppf(alpha, degree_freedom)\n",
    "print(\"The t score is\",t_score,\"and the critical value is\",critical_value)"
   ]
  },
  {
   "cell_type": "code",
   "execution_count": 19,
   "id": "2e5924db",
   "metadata": {},
   "outputs": [
    {
     "name": "stdout",
     "output_type": "stream",
     "text": [
      "Reject the null hypothesis: There is enough evidence to support the claim that the average wait time is less than 5 minutes.\n"
     ]
    }
   ],
   "source": [
    "if t_score < critical_value:\n",
    "    print(\"Reject the null hypothesis: There is enough evidence to support the claim that the average wait time is less than 5 minutes.\")\n",
    "else:\n",
    "    print(\"Fail to reject the null hypothesis: There is not enough evidence to support the claim that the average wait time is less than 5 minutes.\")"
   ]
  },
  {
   "cell_type": "code",
   "execution_count": null,
   "id": "c28fc868",
   "metadata": {},
   "outputs": [],
   "source": []
  }
 ],
 "metadata": {
  "kernelspec": {
   "display_name": "Python 3 (ipykernel)",
   "language": "python",
   "name": "python3"
  },
  "language_info": {
   "codemirror_mode": {
    "name": "ipython",
    "version": 3
   },
   "file_extension": ".py",
   "mimetype": "text/x-python",
   "name": "python",
   "nbconvert_exporter": "python",
   "pygments_lexer": "ipython3",
   "version": "3.11.5"
  }
 },
 "nbformat": 4,
 "nbformat_minor": 5
}
